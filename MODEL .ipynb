{
 "cells": [
  {
   "cell_type": "code",
   "execution_count": 1,
   "id": "0ab50cd6",
   "metadata": {},
   "outputs": [],
   "source": [
    "#pip install xgboost"
   ]
  },
  {
   "cell_type": "code",
   "execution_count": 2,
   "id": "27e5c705",
   "metadata": {},
   "outputs": [],
   "source": [
    "import pandas as pd\n",
    "import numpy as np\n",
    "import matplotlib.pyplot as plt\n",
    "import seaborn as sns"
   ]
  },
  {
   "cell_type": "code",
   "execution_count": 3,
   "id": "353a71d2",
   "metadata": {},
   "outputs": [],
   "source": [
    "bigmart = pd.read_csv(\"C:/Users/MASI/Downloads/train.csv\")"
   ]
  },
  {
   "cell_type": "code",
   "execution_count": 4,
   "id": "9578c79b",
   "metadata": {},
   "outputs": [
    {
     "data": {
      "text/html": [
       "<div>\n",
       "<style scoped>\n",
       "    .dataframe tbody tr th:only-of-type {\n",
       "        vertical-align: middle;\n",
       "    }\n",
       "\n",
       "    .dataframe tbody tr th {\n",
       "        vertical-align: top;\n",
       "    }\n",
       "\n",
       "    .dataframe thead th {\n",
       "        text-align: right;\n",
       "    }\n",
       "</style>\n",
       "<table border=\"1\" class=\"dataframe\">\n",
       "  <thead>\n",
       "    <tr style=\"text-align: right;\">\n",
       "      <th></th>\n",
       "      <th>Item_Identifier</th>\n",
       "      <th>Item_Weight</th>\n",
       "      <th>Item_Fat_Content</th>\n",
       "      <th>Item_Visibility</th>\n",
       "      <th>Item_Type</th>\n",
       "      <th>Item_MRP</th>\n",
       "      <th>Outlet_Identifier</th>\n",
       "      <th>Outlet_Establishment_Year</th>\n",
       "      <th>Outlet_Size</th>\n",
       "      <th>Outlet_Location_Type</th>\n",
       "      <th>Outlet_Type</th>\n",
       "      <th>Item_Outlet_Sales</th>\n",
       "    </tr>\n",
       "  </thead>\n",
       "  <tbody>\n",
       "    <tr>\n",
       "      <th>0</th>\n",
       "      <td>FDA15</td>\n",
       "      <td>9.300</td>\n",
       "      <td>Low Fat</td>\n",
       "      <td>0.016047</td>\n",
       "      <td>Dairy</td>\n",
       "      <td>249.8092</td>\n",
       "      <td>OUT049</td>\n",
       "      <td>1999</td>\n",
       "      <td>Medium</td>\n",
       "      <td>Tier 1</td>\n",
       "      <td>Supermarket Type1</td>\n",
       "      <td>3735.1380</td>\n",
       "    </tr>\n",
       "    <tr>\n",
       "      <th>1</th>\n",
       "      <td>DRC01</td>\n",
       "      <td>5.920</td>\n",
       "      <td>Regular</td>\n",
       "      <td>0.019278</td>\n",
       "      <td>Soft Drinks</td>\n",
       "      <td>48.2692</td>\n",
       "      <td>OUT018</td>\n",
       "      <td>2009</td>\n",
       "      <td>Medium</td>\n",
       "      <td>Tier 3</td>\n",
       "      <td>Supermarket Type2</td>\n",
       "      <td>443.4228</td>\n",
       "    </tr>\n",
       "    <tr>\n",
       "      <th>2</th>\n",
       "      <td>FDN15</td>\n",
       "      <td>17.500</td>\n",
       "      <td>Low Fat</td>\n",
       "      <td>0.016760</td>\n",
       "      <td>Meat</td>\n",
       "      <td>141.6180</td>\n",
       "      <td>OUT049</td>\n",
       "      <td>1999</td>\n",
       "      <td>Medium</td>\n",
       "      <td>Tier 1</td>\n",
       "      <td>Supermarket Type1</td>\n",
       "      <td>2097.2700</td>\n",
       "    </tr>\n",
       "    <tr>\n",
       "      <th>3</th>\n",
       "      <td>FDX07</td>\n",
       "      <td>19.200</td>\n",
       "      <td>Regular</td>\n",
       "      <td>0.000000</td>\n",
       "      <td>Fruits and Vegetables</td>\n",
       "      <td>182.0950</td>\n",
       "      <td>OUT010</td>\n",
       "      <td>1998</td>\n",
       "      <td>NaN</td>\n",
       "      <td>Tier 3</td>\n",
       "      <td>Grocery Store</td>\n",
       "      <td>732.3800</td>\n",
       "    </tr>\n",
       "    <tr>\n",
       "      <th>4</th>\n",
       "      <td>NCD19</td>\n",
       "      <td>8.930</td>\n",
       "      <td>Low Fat</td>\n",
       "      <td>0.000000</td>\n",
       "      <td>Household</td>\n",
       "      <td>53.8614</td>\n",
       "      <td>OUT013</td>\n",
       "      <td>1987</td>\n",
       "      <td>High</td>\n",
       "      <td>Tier 3</td>\n",
       "      <td>Supermarket Type1</td>\n",
       "      <td>994.7052</td>\n",
       "    </tr>\n",
       "    <tr>\n",
       "      <th>...</th>\n",
       "      <td>...</td>\n",
       "      <td>...</td>\n",
       "      <td>...</td>\n",
       "      <td>...</td>\n",
       "      <td>...</td>\n",
       "      <td>...</td>\n",
       "      <td>...</td>\n",
       "      <td>...</td>\n",
       "      <td>...</td>\n",
       "      <td>...</td>\n",
       "      <td>...</td>\n",
       "      <td>...</td>\n",
       "    </tr>\n",
       "    <tr>\n",
       "      <th>8518</th>\n",
       "      <td>FDF22</td>\n",
       "      <td>6.865</td>\n",
       "      <td>Low Fat</td>\n",
       "      <td>0.056783</td>\n",
       "      <td>Snack Foods</td>\n",
       "      <td>214.5218</td>\n",
       "      <td>OUT013</td>\n",
       "      <td>1987</td>\n",
       "      <td>High</td>\n",
       "      <td>Tier 3</td>\n",
       "      <td>Supermarket Type1</td>\n",
       "      <td>2778.3834</td>\n",
       "    </tr>\n",
       "    <tr>\n",
       "      <th>8519</th>\n",
       "      <td>FDS36</td>\n",
       "      <td>8.380</td>\n",
       "      <td>Regular</td>\n",
       "      <td>0.046982</td>\n",
       "      <td>Baking Goods</td>\n",
       "      <td>108.1570</td>\n",
       "      <td>OUT045</td>\n",
       "      <td>2002</td>\n",
       "      <td>NaN</td>\n",
       "      <td>Tier 2</td>\n",
       "      <td>Supermarket Type1</td>\n",
       "      <td>549.2850</td>\n",
       "    </tr>\n",
       "    <tr>\n",
       "      <th>8520</th>\n",
       "      <td>NCJ29</td>\n",
       "      <td>10.600</td>\n",
       "      <td>Low Fat</td>\n",
       "      <td>0.035186</td>\n",
       "      <td>Health and Hygiene</td>\n",
       "      <td>85.1224</td>\n",
       "      <td>OUT035</td>\n",
       "      <td>2004</td>\n",
       "      <td>Small</td>\n",
       "      <td>Tier 2</td>\n",
       "      <td>Supermarket Type1</td>\n",
       "      <td>1193.1136</td>\n",
       "    </tr>\n",
       "    <tr>\n",
       "      <th>8521</th>\n",
       "      <td>FDN46</td>\n",
       "      <td>7.210</td>\n",
       "      <td>Regular</td>\n",
       "      <td>0.145221</td>\n",
       "      <td>Snack Foods</td>\n",
       "      <td>103.1332</td>\n",
       "      <td>OUT018</td>\n",
       "      <td>2009</td>\n",
       "      <td>Medium</td>\n",
       "      <td>Tier 3</td>\n",
       "      <td>Supermarket Type2</td>\n",
       "      <td>1845.5976</td>\n",
       "    </tr>\n",
       "    <tr>\n",
       "      <th>8522</th>\n",
       "      <td>DRG01</td>\n",
       "      <td>14.800</td>\n",
       "      <td>Low Fat</td>\n",
       "      <td>0.044878</td>\n",
       "      <td>Soft Drinks</td>\n",
       "      <td>75.4670</td>\n",
       "      <td>OUT046</td>\n",
       "      <td>1997</td>\n",
       "      <td>Small</td>\n",
       "      <td>Tier 1</td>\n",
       "      <td>Supermarket Type1</td>\n",
       "      <td>765.6700</td>\n",
       "    </tr>\n",
       "  </tbody>\n",
       "</table>\n",
       "<p>8523 rows × 12 columns</p>\n",
       "</div>"
      ],
      "text/plain": [
       "     Item_Identifier  Item_Weight Item_Fat_Content  Item_Visibility  \\\n",
       "0              FDA15        9.300          Low Fat         0.016047   \n",
       "1              DRC01        5.920          Regular         0.019278   \n",
       "2              FDN15       17.500          Low Fat         0.016760   \n",
       "3              FDX07       19.200          Regular         0.000000   \n",
       "4              NCD19        8.930          Low Fat         0.000000   \n",
       "...              ...          ...              ...              ...   \n",
       "8518           FDF22        6.865          Low Fat         0.056783   \n",
       "8519           FDS36        8.380          Regular         0.046982   \n",
       "8520           NCJ29       10.600          Low Fat         0.035186   \n",
       "8521           FDN46        7.210          Regular         0.145221   \n",
       "8522           DRG01       14.800          Low Fat         0.044878   \n",
       "\n",
       "                  Item_Type  Item_MRP Outlet_Identifier  \\\n",
       "0                     Dairy  249.8092            OUT049   \n",
       "1               Soft Drinks   48.2692            OUT018   \n",
       "2                      Meat  141.6180            OUT049   \n",
       "3     Fruits and Vegetables  182.0950            OUT010   \n",
       "4                 Household   53.8614            OUT013   \n",
       "...                     ...       ...               ...   \n",
       "8518            Snack Foods  214.5218            OUT013   \n",
       "8519           Baking Goods  108.1570            OUT045   \n",
       "8520     Health and Hygiene   85.1224            OUT035   \n",
       "8521            Snack Foods  103.1332            OUT018   \n",
       "8522            Soft Drinks   75.4670            OUT046   \n",
       "\n",
       "      Outlet_Establishment_Year Outlet_Size Outlet_Location_Type  \\\n",
       "0                          1999      Medium               Tier 1   \n",
       "1                          2009      Medium               Tier 3   \n",
       "2                          1999      Medium               Tier 1   \n",
       "3                          1998         NaN               Tier 3   \n",
       "4                          1987        High               Tier 3   \n",
       "...                         ...         ...                  ...   \n",
       "8518                       1987        High               Tier 3   \n",
       "8519                       2002         NaN               Tier 2   \n",
       "8520                       2004       Small               Tier 2   \n",
       "8521                       2009      Medium               Tier 3   \n",
       "8522                       1997       Small               Tier 1   \n",
       "\n",
       "            Outlet_Type  Item_Outlet_Sales  \n",
       "0     Supermarket Type1          3735.1380  \n",
       "1     Supermarket Type2           443.4228  \n",
       "2     Supermarket Type1          2097.2700  \n",
       "3         Grocery Store           732.3800  \n",
       "4     Supermarket Type1           994.7052  \n",
       "...                 ...                ...  \n",
       "8518  Supermarket Type1          2778.3834  \n",
       "8519  Supermarket Type1           549.2850  \n",
       "8520  Supermarket Type1          1193.1136  \n",
       "8521  Supermarket Type2          1845.5976  \n",
       "8522  Supermarket Type1           765.6700  \n",
       "\n",
       "[8523 rows x 12 columns]"
      ]
     },
     "execution_count": 4,
     "metadata": {},
     "output_type": "execute_result"
    }
   ],
   "source": [
    "bigmart"
   ]
  },
  {
   "cell_type": "code",
   "execution_count": 5,
   "id": "35cf41ed",
   "metadata": {},
   "outputs": [
    {
     "data": {
      "text/html": [
       "<div>\n",
       "<style scoped>\n",
       "    .dataframe tbody tr th:only-of-type {\n",
       "        vertical-align: middle;\n",
       "    }\n",
       "\n",
       "    .dataframe tbody tr th {\n",
       "        vertical-align: top;\n",
       "    }\n",
       "\n",
       "    .dataframe thead th {\n",
       "        text-align: right;\n",
       "    }\n",
       "</style>\n",
       "<table border=\"1\" class=\"dataframe\">\n",
       "  <thead>\n",
       "    <tr style=\"text-align: right;\">\n",
       "      <th></th>\n",
       "      <th>Item_Identifier</th>\n",
       "      <th>Item_Weight</th>\n",
       "      <th>Item_Fat_Content</th>\n",
       "      <th>Item_Visibility</th>\n",
       "      <th>Item_Type</th>\n",
       "      <th>Item_MRP</th>\n",
       "      <th>Outlet_Identifier</th>\n",
       "      <th>Outlet_Establishment_Year</th>\n",
       "      <th>Outlet_Size</th>\n",
       "      <th>Outlet_Location_Type</th>\n",
       "      <th>Outlet_Type</th>\n",
       "      <th>Item_Outlet_Sales</th>\n",
       "    </tr>\n",
       "  </thead>\n",
       "  <tbody>\n",
       "    <tr>\n",
       "      <th>0</th>\n",
       "      <td>FDA15</td>\n",
       "      <td>9.30</td>\n",
       "      <td>Low Fat</td>\n",
       "      <td>0.016047</td>\n",
       "      <td>Dairy</td>\n",
       "      <td>249.8092</td>\n",
       "      <td>OUT049</td>\n",
       "      <td>1999</td>\n",
       "      <td>Medium</td>\n",
       "      <td>Tier 1</td>\n",
       "      <td>Supermarket Type1</td>\n",
       "      <td>3735.1380</td>\n",
       "    </tr>\n",
       "    <tr>\n",
       "      <th>1</th>\n",
       "      <td>DRC01</td>\n",
       "      <td>5.92</td>\n",
       "      <td>Regular</td>\n",
       "      <td>0.019278</td>\n",
       "      <td>Soft Drinks</td>\n",
       "      <td>48.2692</td>\n",
       "      <td>OUT018</td>\n",
       "      <td>2009</td>\n",
       "      <td>Medium</td>\n",
       "      <td>Tier 3</td>\n",
       "      <td>Supermarket Type2</td>\n",
       "      <td>443.4228</td>\n",
       "    </tr>\n",
       "    <tr>\n",
       "      <th>2</th>\n",
       "      <td>FDN15</td>\n",
       "      <td>17.50</td>\n",
       "      <td>Low Fat</td>\n",
       "      <td>0.016760</td>\n",
       "      <td>Meat</td>\n",
       "      <td>141.6180</td>\n",
       "      <td>OUT049</td>\n",
       "      <td>1999</td>\n",
       "      <td>Medium</td>\n",
       "      <td>Tier 1</td>\n",
       "      <td>Supermarket Type1</td>\n",
       "      <td>2097.2700</td>\n",
       "    </tr>\n",
       "    <tr>\n",
       "      <th>3</th>\n",
       "      <td>FDX07</td>\n",
       "      <td>19.20</td>\n",
       "      <td>Regular</td>\n",
       "      <td>0.000000</td>\n",
       "      <td>Fruits and Vegetables</td>\n",
       "      <td>182.0950</td>\n",
       "      <td>OUT010</td>\n",
       "      <td>1998</td>\n",
       "      <td>NaN</td>\n",
       "      <td>Tier 3</td>\n",
       "      <td>Grocery Store</td>\n",
       "      <td>732.3800</td>\n",
       "    </tr>\n",
       "    <tr>\n",
       "      <th>4</th>\n",
       "      <td>NCD19</td>\n",
       "      <td>8.93</td>\n",
       "      <td>Low Fat</td>\n",
       "      <td>0.000000</td>\n",
       "      <td>Household</td>\n",
       "      <td>53.8614</td>\n",
       "      <td>OUT013</td>\n",
       "      <td>1987</td>\n",
       "      <td>High</td>\n",
       "      <td>Tier 3</td>\n",
       "      <td>Supermarket Type1</td>\n",
       "      <td>994.7052</td>\n",
       "    </tr>\n",
       "  </tbody>\n",
       "</table>\n",
       "</div>"
      ],
      "text/plain": [
       "  Item_Identifier  Item_Weight Item_Fat_Content  Item_Visibility  \\\n",
       "0           FDA15         9.30          Low Fat         0.016047   \n",
       "1           DRC01         5.92          Regular         0.019278   \n",
       "2           FDN15        17.50          Low Fat         0.016760   \n",
       "3           FDX07        19.20          Regular         0.000000   \n",
       "4           NCD19         8.93          Low Fat         0.000000   \n",
       "\n",
       "               Item_Type  Item_MRP Outlet_Identifier  \\\n",
       "0                  Dairy  249.8092            OUT049   \n",
       "1            Soft Drinks   48.2692            OUT018   \n",
       "2                   Meat  141.6180            OUT049   \n",
       "3  Fruits and Vegetables  182.0950            OUT010   \n",
       "4              Household   53.8614            OUT013   \n",
       "\n",
       "   Outlet_Establishment_Year Outlet_Size Outlet_Location_Type  \\\n",
       "0                       1999      Medium               Tier 1   \n",
       "1                       2009      Medium               Tier 3   \n",
       "2                       1999      Medium               Tier 1   \n",
       "3                       1998         NaN               Tier 3   \n",
       "4                       1987        High               Tier 3   \n",
       "\n",
       "         Outlet_Type  Item_Outlet_Sales  \n",
       "0  Supermarket Type1          3735.1380  \n",
       "1  Supermarket Type2           443.4228  \n",
       "2  Supermarket Type1          2097.2700  \n",
       "3      Grocery Store           732.3800  \n",
       "4  Supermarket Type1           994.7052  "
      ]
     },
     "execution_count": 5,
     "metadata": {},
     "output_type": "execute_result"
    }
   ],
   "source": [
    "bigmart.head()"
   ]
  },
  {
   "cell_type": "code",
   "execution_count": 6,
   "id": "7790ce32",
   "metadata": {},
   "outputs": [
    {
     "data": {
      "text/html": [
       "<div>\n",
       "<style scoped>\n",
       "    .dataframe tbody tr th:only-of-type {\n",
       "        vertical-align: middle;\n",
       "    }\n",
       "\n",
       "    .dataframe tbody tr th {\n",
       "        vertical-align: top;\n",
       "    }\n",
       "\n",
       "    .dataframe thead th {\n",
       "        text-align: right;\n",
       "    }\n",
       "</style>\n",
       "<table border=\"1\" class=\"dataframe\">\n",
       "  <thead>\n",
       "    <tr style=\"text-align: right;\">\n",
       "      <th></th>\n",
       "      <th>Item_Identifier</th>\n",
       "      <th>Item_Weight</th>\n",
       "      <th>Item_Fat_Content</th>\n",
       "      <th>Item_Visibility</th>\n",
       "      <th>Item_Type</th>\n",
       "      <th>Item_MRP</th>\n",
       "      <th>Outlet_Identifier</th>\n",
       "      <th>Outlet_Establishment_Year</th>\n",
       "      <th>Outlet_Size</th>\n",
       "      <th>Outlet_Location_Type</th>\n",
       "      <th>Outlet_Type</th>\n",
       "      <th>Item_Outlet_Sales</th>\n",
       "    </tr>\n",
       "  </thead>\n",
       "  <tbody>\n",
       "    <tr>\n",
       "      <th>8518</th>\n",
       "      <td>FDF22</td>\n",
       "      <td>6.865</td>\n",
       "      <td>Low Fat</td>\n",
       "      <td>0.056783</td>\n",
       "      <td>Snack Foods</td>\n",
       "      <td>214.5218</td>\n",
       "      <td>OUT013</td>\n",
       "      <td>1987</td>\n",
       "      <td>High</td>\n",
       "      <td>Tier 3</td>\n",
       "      <td>Supermarket Type1</td>\n",
       "      <td>2778.3834</td>\n",
       "    </tr>\n",
       "    <tr>\n",
       "      <th>8519</th>\n",
       "      <td>FDS36</td>\n",
       "      <td>8.380</td>\n",
       "      <td>Regular</td>\n",
       "      <td>0.046982</td>\n",
       "      <td>Baking Goods</td>\n",
       "      <td>108.1570</td>\n",
       "      <td>OUT045</td>\n",
       "      <td>2002</td>\n",
       "      <td>NaN</td>\n",
       "      <td>Tier 2</td>\n",
       "      <td>Supermarket Type1</td>\n",
       "      <td>549.2850</td>\n",
       "    </tr>\n",
       "    <tr>\n",
       "      <th>8520</th>\n",
       "      <td>NCJ29</td>\n",
       "      <td>10.600</td>\n",
       "      <td>Low Fat</td>\n",
       "      <td>0.035186</td>\n",
       "      <td>Health and Hygiene</td>\n",
       "      <td>85.1224</td>\n",
       "      <td>OUT035</td>\n",
       "      <td>2004</td>\n",
       "      <td>Small</td>\n",
       "      <td>Tier 2</td>\n",
       "      <td>Supermarket Type1</td>\n",
       "      <td>1193.1136</td>\n",
       "    </tr>\n",
       "    <tr>\n",
       "      <th>8521</th>\n",
       "      <td>FDN46</td>\n",
       "      <td>7.210</td>\n",
       "      <td>Regular</td>\n",
       "      <td>0.145221</td>\n",
       "      <td>Snack Foods</td>\n",
       "      <td>103.1332</td>\n",
       "      <td>OUT018</td>\n",
       "      <td>2009</td>\n",
       "      <td>Medium</td>\n",
       "      <td>Tier 3</td>\n",
       "      <td>Supermarket Type2</td>\n",
       "      <td>1845.5976</td>\n",
       "    </tr>\n",
       "    <tr>\n",
       "      <th>8522</th>\n",
       "      <td>DRG01</td>\n",
       "      <td>14.800</td>\n",
       "      <td>Low Fat</td>\n",
       "      <td>0.044878</td>\n",
       "      <td>Soft Drinks</td>\n",
       "      <td>75.4670</td>\n",
       "      <td>OUT046</td>\n",
       "      <td>1997</td>\n",
       "      <td>Small</td>\n",
       "      <td>Tier 1</td>\n",
       "      <td>Supermarket Type1</td>\n",
       "      <td>765.6700</td>\n",
       "    </tr>\n",
       "  </tbody>\n",
       "</table>\n",
       "</div>"
      ],
      "text/plain": [
       "     Item_Identifier  Item_Weight Item_Fat_Content  Item_Visibility  \\\n",
       "8518           FDF22        6.865          Low Fat         0.056783   \n",
       "8519           FDS36        8.380          Regular         0.046982   \n",
       "8520           NCJ29       10.600          Low Fat         0.035186   \n",
       "8521           FDN46        7.210          Regular         0.145221   \n",
       "8522           DRG01       14.800          Low Fat         0.044878   \n",
       "\n",
       "               Item_Type  Item_MRP Outlet_Identifier  \\\n",
       "8518         Snack Foods  214.5218            OUT013   \n",
       "8519        Baking Goods  108.1570            OUT045   \n",
       "8520  Health and Hygiene   85.1224            OUT035   \n",
       "8521         Snack Foods  103.1332            OUT018   \n",
       "8522         Soft Drinks   75.4670            OUT046   \n",
       "\n",
       "      Outlet_Establishment_Year Outlet_Size Outlet_Location_Type  \\\n",
       "8518                       1987        High               Tier 3   \n",
       "8519                       2002         NaN               Tier 2   \n",
       "8520                       2004       Small               Tier 2   \n",
       "8521                       2009      Medium               Tier 3   \n",
       "8522                       1997       Small               Tier 1   \n",
       "\n",
       "            Outlet_Type  Item_Outlet_Sales  \n",
       "8518  Supermarket Type1          2778.3834  \n",
       "8519  Supermarket Type1           549.2850  \n",
       "8520  Supermarket Type1          1193.1136  \n",
       "8521  Supermarket Type2          1845.5976  \n",
       "8522  Supermarket Type1           765.6700  "
      ]
     },
     "execution_count": 6,
     "metadata": {},
     "output_type": "execute_result"
    }
   ],
   "source": [
    "bigmart.tail()"
   ]
  },
  {
   "cell_type": "code",
   "execution_count": 7,
   "id": "e42eafba",
   "metadata": {},
   "outputs": [
    {
     "data": {
      "text/plain": [
       "Item_Identifier                 0\n",
       "Item_Weight                  1463\n",
       "Item_Fat_Content                0\n",
       "Item_Visibility                 0\n",
       "Item_Type                       0\n",
       "Item_MRP                        0\n",
       "Outlet_Identifier               0\n",
       "Outlet_Establishment_Year       0\n",
       "Outlet_Size                  2410\n",
       "Outlet_Location_Type            0\n",
       "Outlet_Type                     0\n",
       "Item_Outlet_Sales               0\n",
       "dtype: int64"
      ]
     },
     "execution_count": 7,
     "metadata": {},
     "output_type": "execute_result"
    }
   ],
   "source": [
    "bigmart.isnull().sum()"
   ]
  },
  {
   "cell_type": "code",
   "execution_count": 8,
   "id": "b0f2f282",
   "metadata": {},
   "outputs": [
    {
     "data": {
      "text/plain": [
       "Index(['Item_Identifier', 'Item_Weight', 'Item_Fat_Content', 'Item_Visibility',\n",
       "       'Item_Type', 'Item_MRP', 'Outlet_Identifier',\n",
       "       'Outlet_Establishment_Year', 'Outlet_Size', 'Outlet_Location_Type',\n",
       "       'Outlet_Type', 'Item_Outlet_Sales'],\n",
       "      dtype='object')"
      ]
     },
     "execution_count": 8,
     "metadata": {},
     "output_type": "execute_result"
    }
   ],
   "source": [
    "bigmart.columns"
   ]
  },
  {
   "cell_type": "code",
   "execution_count": null,
   "id": "b3f59f02",
   "metadata": {},
   "outputs": [],
   "source": []
  },
  {
   "cell_type": "code",
   "execution_count": 9,
   "id": "3778d70c",
   "metadata": {},
   "outputs": [],
   "source": [
    "Item_Weight = bigmart.groupby('Item_Identifier')['Item_Weight'].agg(lambda x: x.mode()[0] if not x.mode().empty else None)\n",
    "\n",
    "# Define a function to replace null society values based on area_type\n",
    "def replace_null_item_weight(row):\n",
    "    if pd.isnull(row['Item_Weight']):\n",
    "        return Item_Weight[row['Item_Identifier']]\n",
    "    else:\n",
    "        return row['Item_Weight']\n",
    "\n",
    "# Apply the function to replace null society values\n",
    "bigmart['Item_Weight'] = bigmart.apply(replace_null_item_weight, axis=1)"
   ]
  },
  {
   "cell_type": "code",
   "execution_count": 10,
   "id": "661d6cdd",
   "metadata": {},
   "outputs": [
    {
     "data": {
      "text/plain": [
       "Item_Identifier                 0\n",
       "Item_Weight                     4\n",
       "Item_Fat_Content                0\n",
       "Item_Visibility                 0\n",
       "Item_Type                       0\n",
       "Item_MRP                        0\n",
       "Outlet_Identifier               0\n",
       "Outlet_Establishment_Year       0\n",
       "Outlet_Size                  2410\n",
       "Outlet_Location_Type            0\n",
       "Outlet_Type                     0\n",
       "Item_Outlet_Sales               0\n",
       "dtype: int64"
      ]
     },
     "execution_count": 10,
     "metadata": {},
     "output_type": "execute_result"
    }
   ],
   "source": [
    "bigmart.isnull().sum()"
   ]
  },
  {
   "cell_type": "code",
   "execution_count": 11,
   "id": "92992059",
   "metadata": {},
   "outputs": [
    {
     "data": {
      "text/plain": [
       "array(['Medium', nan, 'High', 'Small'], dtype=object)"
      ]
     },
     "execution_count": 11,
     "metadata": {},
     "output_type": "execute_result"
    }
   ],
   "source": [
    "bigmart[\"Outlet_Size\"].unique()"
   ]
  },
  {
   "cell_type": "code",
   "execution_count": 12,
   "id": "cd474726",
   "metadata": {},
   "outputs": [
    {
     "data": {
      "text/plain": [
       "High       932\n",
       "Small     2388\n",
       "Medium    2793\n",
       "Name: Outlet_Size, dtype: int64"
      ]
     },
     "execution_count": 12,
     "metadata": {},
     "output_type": "execute_result"
    }
   ],
   "source": [
    "bigmart[\"Outlet_Size\"].value_counts(ascending=True)"
   ]
  },
  {
   "cell_type": "code",
   "execution_count": 13,
   "id": "1287fa47",
   "metadata": {},
   "outputs": [
    {
     "data": {
      "text/plain": [
       "array(['OUT049', 'OUT018', 'OUT010', 'OUT013', 'OUT027', 'OUT045',\n",
       "       'OUT017', 'OUT046', 'OUT035', 'OUT019'], dtype=object)"
      ]
     },
     "execution_count": 13,
     "metadata": {},
     "output_type": "execute_result"
    }
   ],
   "source": [
    "bigmart[\"Outlet_Identifier\"]. unique()"
   ]
  },
  {
   "cell_type": "code",
   "execution_count": 14,
   "id": "11c13cc6",
   "metadata": {},
   "outputs": [],
   "source": [
    "outlet = bigmart.drop_duplicates(subset=['Outlet_Identifier', 'Outlet_Size'])"
   ]
  },
  {
   "cell_type": "code",
   "execution_count": 15,
   "id": "40b144b8",
   "metadata": {},
   "outputs": [
    {
     "data": {
      "text/html": [
       "<div>\n",
       "<style scoped>\n",
       "    .dataframe tbody tr th:only-of-type {\n",
       "        vertical-align: middle;\n",
       "    }\n",
       "\n",
       "    .dataframe tbody tr th {\n",
       "        vertical-align: top;\n",
       "    }\n",
       "\n",
       "    .dataframe thead th {\n",
       "        text-align: right;\n",
       "    }\n",
       "</style>\n",
       "<table border=\"1\" class=\"dataframe\">\n",
       "  <thead>\n",
       "    <tr style=\"text-align: right;\">\n",
       "      <th></th>\n",
       "      <th>Item_Identifier</th>\n",
       "      <th>Item_Weight</th>\n",
       "      <th>Item_Fat_Content</th>\n",
       "      <th>Item_Visibility</th>\n",
       "      <th>Item_Type</th>\n",
       "      <th>Item_MRP</th>\n",
       "      <th>Outlet_Identifier</th>\n",
       "      <th>Outlet_Establishment_Year</th>\n",
       "      <th>Outlet_Size</th>\n",
       "      <th>Outlet_Location_Type</th>\n",
       "      <th>Outlet_Type</th>\n",
       "      <th>Item_Outlet_Sales</th>\n",
       "    </tr>\n",
       "  </thead>\n",
       "  <tbody>\n",
       "    <tr>\n",
       "      <th>0</th>\n",
       "      <td>FDA15</td>\n",
       "      <td>9.30</td>\n",
       "      <td>Low Fat</td>\n",
       "      <td>0.016047</td>\n",
       "      <td>Dairy</td>\n",
       "      <td>249.8092</td>\n",
       "      <td>OUT049</td>\n",
       "      <td>1999</td>\n",
       "      <td>Medium</td>\n",
       "      <td>Tier 1</td>\n",
       "      <td>Supermarket Type1</td>\n",
       "      <td>3735.1380</td>\n",
       "    </tr>\n",
       "    <tr>\n",
       "      <th>1</th>\n",
       "      <td>DRC01</td>\n",
       "      <td>5.92</td>\n",
       "      <td>Regular</td>\n",
       "      <td>0.019278</td>\n",
       "      <td>Soft Drinks</td>\n",
       "      <td>48.2692</td>\n",
       "      <td>OUT018</td>\n",
       "      <td>2009</td>\n",
       "      <td>Medium</td>\n",
       "      <td>Tier 3</td>\n",
       "      <td>Supermarket Type2</td>\n",
       "      <td>443.4228</td>\n",
       "    </tr>\n",
       "    <tr>\n",
       "      <th>3</th>\n",
       "      <td>FDX07</td>\n",
       "      <td>19.20</td>\n",
       "      <td>Regular</td>\n",
       "      <td>0.000000</td>\n",
       "      <td>Fruits and Vegetables</td>\n",
       "      <td>182.0950</td>\n",
       "      <td>OUT010</td>\n",
       "      <td>1998</td>\n",
       "      <td>NaN</td>\n",
       "      <td>Tier 3</td>\n",
       "      <td>Grocery Store</td>\n",
       "      <td>732.3800</td>\n",
       "    </tr>\n",
       "    <tr>\n",
       "      <th>4</th>\n",
       "      <td>NCD19</td>\n",
       "      <td>8.93</td>\n",
       "      <td>Low Fat</td>\n",
       "      <td>0.000000</td>\n",
       "      <td>Household</td>\n",
       "      <td>53.8614</td>\n",
       "      <td>OUT013</td>\n",
       "      <td>1987</td>\n",
       "      <td>High</td>\n",
       "      <td>Tier 3</td>\n",
       "      <td>Supermarket Type1</td>\n",
       "      <td>994.7052</td>\n",
       "    </tr>\n",
       "    <tr>\n",
       "      <th>7</th>\n",
       "      <td>FDP10</td>\n",
       "      <td>19.00</td>\n",
       "      <td>Low Fat</td>\n",
       "      <td>0.127470</td>\n",
       "      <td>Snack Foods</td>\n",
       "      <td>107.7622</td>\n",
       "      <td>OUT027</td>\n",
       "      <td>1985</td>\n",
       "      <td>Medium</td>\n",
       "      <td>Tier 3</td>\n",
       "      <td>Supermarket Type3</td>\n",
       "      <td>4022.7636</td>\n",
       "    </tr>\n",
       "    <tr>\n",
       "      <th>8</th>\n",
       "      <td>FDH17</td>\n",
       "      <td>16.20</td>\n",
       "      <td>Regular</td>\n",
       "      <td>0.016687</td>\n",
       "      <td>Frozen Foods</td>\n",
       "      <td>96.9726</td>\n",
       "      <td>OUT045</td>\n",
       "      <td>2002</td>\n",
       "      <td>NaN</td>\n",
       "      <td>Tier 2</td>\n",
       "      <td>Supermarket Type1</td>\n",
       "      <td>1076.5986</td>\n",
       "    </tr>\n",
       "    <tr>\n",
       "      <th>9</th>\n",
       "      <td>FDU28</td>\n",
       "      <td>19.20</td>\n",
       "      <td>Regular</td>\n",
       "      <td>0.094450</td>\n",
       "      <td>Frozen Foods</td>\n",
       "      <td>187.8214</td>\n",
       "      <td>OUT017</td>\n",
       "      <td>2007</td>\n",
       "      <td>NaN</td>\n",
       "      <td>Tier 2</td>\n",
       "      <td>Supermarket Type1</td>\n",
       "      <td>4710.5350</td>\n",
       "    </tr>\n",
       "    <tr>\n",
       "      <th>11</th>\n",
       "      <td>FDA03</td>\n",
       "      <td>18.50</td>\n",
       "      <td>Regular</td>\n",
       "      <td>0.045464</td>\n",
       "      <td>Dairy</td>\n",
       "      <td>144.1102</td>\n",
       "      <td>OUT046</td>\n",
       "      <td>1997</td>\n",
       "      <td>Small</td>\n",
       "      <td>Tier 1</td>\n",
       "      <td>Supermarket Type1</td>\n",
       "      <td>2187.1530</td>\n",
       "    </tr>\n",
       "    <tr>\n",
       "      <th>19</th>\n",
       "      <td>FDU02</td>\n",
       "      <td>13.35</td>\n",
       "      <td>Low Fat</td>\n",
       "      <td>0.102492</td>\n",
       "      <td>Dairy</td>\n",
       "      <td>230.5352</td>\n",
       "      <td>OUT035</td>\n",
       "      <td>2004</td>\n",
       "      <td>Small</td>\n",
       "      <td>Tier 2</td>\n",
       "      <td>Supermarket Type1</td>\n",
       "      <td>2748.4224</td>\n",
       "    </tr>\n",
       "    <tr>\n",
       "      <th>23</th>\n",
       "      <td>FDC37</td>\n",
       "      <td>15.50</td>\n",
       "      <td>Low Fat</td>\n",
       "      <td>0.057557</td>\n",
       "      <td>Baking Goods</td>\n",
       "      <td>107.6938</td>\n",
       "      <td>OUT019</td>\n",
       "      <td>1985</td>\n",
       "      <td>Small</td>\n",
       "      <td>Tier 1</td>\n",
       "      <td>Grocery Store</td>\n",
       "      <td>214.3876</td>\n",
       "    </tr>\n",
       "  </tbody>\n",
       "</table>\n",
       "</div>"
      ],
      "text/plain": [
       "   Item_Identifier  Item_Weight Item_Fat_Content  Item_Visibility  \\\n",
       "0            FDA15         9.30          Low Fat         0.016047   \n",
       "1            DRC01         5.92          Regular         0.019278   \n",
       "3            FDX07        19.20          Regular         0.000000   \n",
       "4            NCD19         8.93          Low Fat         0.000000   \n",
       "7            FDP10        19.00          Low Fat         0.127470   \n",
       "8            FDH17        16.20          Regular         0.016687   \n",
       "9            FDU28        19.20          Regular         0.094450   \n",
       "11           FDA03        18.50          Regular         0.045464   \n",
       "19           FDU02        13.35          Low Fat         0.102492   \n",
       "23           FDC37        15.50          Low Fat         0.057557   \n",
       "\n",
       "                Item_Type  Item_MRP Outlet_Identifier  \\\n",
       "0                   Dairy  249.8092            OUT049   \n",
       "1             Soft Drinks   48.2692            OUT018   \n",
       "3   Fruits and Vegetables  182.0950            OUT010   \n",
       "4               Household   53.8614            OUT013   \n",
       "7             Snack Foods  107.7622            OUT027   \n",
       "8            Frozen Foods   96.9726            OUT045   \n",
       "9            Frozen Foods  187.8214            OUT017   \n",
       "11                  Dairy  144.1102            OUT046   \n",
       "19                  Dairy  230.5352            OUT035   \n",
       "23           Baking Goods  107.6938            OUT019   \n",
       "\n",
       "    Outlet_Establishment_Year Outlet_Size Outlet_Location_Type  \\\n",
       "0                        1999      Medium               Tier 1   \n",
       "1                        2009      Medium               Tier 3   \n",
       "3                        1998         NaN               Tier 3   \n",
       "4                        1987        High               Tier 3   \n",
       "7                        1985      Medium               Tier 3   \n",
       "8                        2002         NaN               Tier 2   \n",
       "9                        2007         NaN               Tier 2   \n",
       "11                       1997       Small               Tier 1   \n",
       "19                       2004       Small               Tier 2   \n",
       "23                       1985       Small               Tier 1   \n",
       "\n",
       "          Outlet_Type  Item_Outlet_Sales  \n",
       "0   Supermarket Type1          3735.1380  \n",
       "1   Supermarket Type2           443.4228  \n",
       "3       Grocery Store           732.3800  \n",
       "4   Supermarket Type1           994.7052  \n",
       "7   Supermarket Type3          4022.7636  \n",
       "8   Supermarket Type1          1076.5986  \n",
       "9   Supermarket Type1          4710.5350  \n",
       "11  Supermarket Type1          2187.1530  \n",
       "19  Supermarket Type1          2748.4224  \n",
       "23      Grocery Store           214.3876  "
      ]
     },
     "execution_count": 15,
     "metadata": {},
     "output_type": "execute_result"
    }
   ],
   "source": [
    "outlet"
   ]
  },
  {
   "cell_type": "code",
   "execution_count": 16,
   "id": "74f6dcee",
   "metadata": {},
   "outputs": [],
   "source": [
    "conditions = [\n",
    "    (bigmart[\"Outlet_Identifier\"] == \"OUT049\"),\n",
    "    (bigmart[\"Outlet_Identifier\"] == \"OUT018\"),\n",
    "    (bigmart[\"Outlet_Identifier\"] == \"OUT010\"),#assumption based on outlet type & identifier\n",
    "    (bigmart[\"Outlet_Identifier\"] == \"OUT013\"),\n",
    "    (bigmart[\"Outlet_Identifier\"] == \"OUT027\"),\n",
    "    (bigmart[\"Outlet_Identifier\"] == \"OUT045\"),#assumption based on outlet type & identifier\n",
    "    (bigmart[\"Outlet_Identifier\"] == \"OUT017\"),#assumption based on outlet type & identifier\n",
    "    (bigmart[\"Outlet_Identifier\"] == \"OUT046\"),\n",
    "    (bigmart[\"Outlet_Identifier\"] == \"OUT035\"),\n",
    "    (bigmart[\"Outlet_Identifier\"] == \"OUT019\")\n",
    "]\n",
    "\n",
    "# Corresponding 'Outlet_Size' values for each condition\n",
    "values = [\"Medium\", \"Medium\", \"Small\", \"High\", \"Medium\", \"High\", \"High\", \"Small\", \"Small\", \"Small\"]\n",
    "\n",
    "# Apply the conditions to create 'Outlet_Size'\n",
    "bigmart['Outlet_Size'] = np.select(conditions, values, default='Unknown')"
   ]
  },
  {
   "cell_type": "code",
   "execution_count": 17,
   "id": "0f78dfb2",
   "metadata": {},
   "outputs": [
    {
     "data": {
      "text/plain": [
       "Item_Identifier              0\n",
       "Item_Weight                  4\n",
       "Item_Fat_Content             0\n",
       "Item_Visibility              0\n",
       "Item_Type                    0\n",
       "Item_MRP                     0\n",
       "Outlet_Identifier            0\n",
       "Outlet_Establishment_Year    0\n",
       "Outlet_Size                  0\n",
       "Outlet_Location_Type         0\n",
       "Outlet_Type                  0\n",
       "Item_Outlet_Sales            0\n",
       "dtype: int64"
      ]
     },
     "execution_count": 17,
     "metadata": {},
     "output_type": "execute_result"
    }
   ],
   "source": [
    "bigmart.isnull().sum()"
   ]
  },
  {
   "cell_type": "code",
   "execution_count": 18,
   "id": "6fa48eeb",
   "metadata": {},
   "outputs": [],
   "source": [
    "bigmart.dropna(inplace=True)"
   ]
  },
  {
   "cell_type": "code",
   "execution_count": 19,
   "id": "02d01c2a",
   "metadata": {},
   "outputs": [
    {
     "data": {
      "text/plain": [
       "Item_Identifier              0\n",
       "Item_Weight                  0\n",
       "Item_Fat_Content             0\n",
       "Item_Visibility              0\n",
       "Item_Type                    0\n",
       "Item_MRP                     0\n",
       "Outlet_Identifier            0\n",
       "Outlet_Establishment_Year    0\n",
       "Outlet_Size                  0\n",
       "Outlet_Location_Type         0\n",
       "Outlet_Type                  0\n",
       "Item_Outlet_Sales            0\n",
       "dtype: int64"
      ]
     },
     "execution_count": 19,
     "metadata": {},
     "output_type": "execute_result"
    }
   ],
   "source": [
    "bigmart.isnull().sum()"
   ]
  },
  {
   "cell_type": "code",
   "execution_count": 20,
   "id": "96c8c4c3",
   "metadata": {},
   "outputs": [
    {
     "data": {
      "text/plain": [
       "Item_Identifier               object\n",
       "Item_Weight                  float64\n",
       "Item_Fat_Content              object\n",
       "Item_Visibility              float64\n",
       "Item_Type                     object\n",
       "Item_MRP                     float64\n",
       "Outlet_Identifier             object\n",
       "Outlet_Establishment_Year      int64\n",
       "Outlet_Size                   object\n",
       "Outlet_Location_Type          object\n",
       "Outlet_Type                   object\n",
       "Item_Outlet_Sales            float64\n",
       "dtype: object"
      ]
     },
     "execution_count": 20,
     "metadata": {},
     "output_type": "execute_result"
    }
   ],
   "source": [
    "bigmart.dtypes"
   ]
  },
  {
   "cell_type": "markdown",
   "id": "f503b17f",
   "metadata": {},
   "source": [
    "<H1><B>DESCRIBING EACH COLUMNS</H1></B>"
   ]
  },
  {
   "cell_type": "markdown",
   "id": "8984b9d7",
   "metadata": {},
   "source": [
    "<H3><B> 1) ITEM IDENTIFIER </B></H3>"
   ]
  },
  {
   "cell_type": "code",
   "execution_count": 21,
   "id": "aba99970",
   "metadata": {},
   "outputs": [
    {
     "data": {
      "text/plain": [
       "count      8519\n",
       "unique     1555\n",
       "top       FDG33\n",
       "freq         10\n",
       "Name: Item_Identifier, dtype: object"
      ]
     },
     "execution_count": 21,
     "metadata": {},
     "output_type": "execute_result"
    }
   ],
   "source": [
    "bigmart[\"Item_Identifier\"].describe()"
   ]
  },
  {
   "cell_type": "markdown",
   "id": "fe9e1d52",
   "metadata": {},
   "source": [
    "<h3><b> 2) ITEM WEIGHT </b></h3>"
   ]
  },
  {
   "cell_type": "code",
   "execution_count": 22,
   "id": "35de6bdb",
   "metadata": {},
   "outputs": [
    {
     "data": {
      "text/plain": [
       "count    8519.000000\n",
       "mean       12.875420\n",
       "std         4.646098\n",
       "min         4.555000\n",
       "25%         8.785000\n",
       "50%        12.650000\n",
       "75%        16.850000\n",
       "max        21.350000\n",
       "Name: Item_Weight, dtype: float64"
      ]
     },
     "execution_count": 22,
     "metadata": {},
     "output_type": "execute_result"
    }
   ],
   "source": [
    "bigmart[\"Item_Weight\"].describe()"
   ]
  },
  {
   "cell_type": "markdown",
   "id": "01b36f1b",
   "metadata": {},
   "source": [
    "<h3><b> 3) ITEM FAT CONTENT </h3></b>"
   ]
  },
  {
   "cell_type": "code",
   "execution_count": 23,
   "id": "d97ac479",
   "metadata": {},
   "outputs": [
    {
     "data": {
      "text/plain": [
       "count        8519\n",
       "unique          5\n",
       "top       Low Fat\n",
       "freq         5088\n",
       "Name: Item_Fat_Content, dtype: object"
      ]
     },
     "execution_count": 23,
     "metadata": {},
     "output_type": "execute_result"
    }
   ],
   "source": [
    "bigmart[\"Item_Fat_Content\"].describe()"
   ]
  },
  {
   "cell_type": "code",
   "execution_count": 24,
   "id": "075d3672",
   "metadata": {},
   "outputs": [
    {
     "data": {
      "text/plain": [
       "array(['Low Fat', 'Regular', 'low fat', 'LF', 'reg'], dtype=object)"
      ]
     },
     "execution_count": 24,
     "metadata": {},
     "output_type": "execute_result"
    }
   ],
   "source": [
    "bigmart[\"Item_Fat_Content\"].unique()"
   ]
  },
  {
   "cell_type": "code",
   "execution_count": 25,
   "id": "53910622",
   "metadata": {},
   "outputs": [],
   "source": [
    "bigmart[\"Item_Fat_Content\"].replace({'low fat': 'Low Fat'},inplace=True)\n",
    "bigmart[\"Item_Fat_Content\"].replace({'LF': 'Low Fat'},inplace=True)\n",
    "bigmart[\"Item_Fat_Content\"].replace({'reg': 'Regular'},inplace=True)"
   ]
  },
  {
   "cell_type": "code",
   "execution_count": 26,
   "id": "4016fbc9",
   "metadata": {},
   "outputs": [
    {
     "data": {
      "text/plain": [
       "array(['Low Fat', 'Regular'], dtype=object)"
      ]
     },
     "execution_count": 26,
     "metadata": {},
     "output_type": "execute_result"
    }
   ],
   "source": [
    "bigmart[\"Item_Fat_Content\"].unique()"
   ]
  },
  {
   "cell_type": "code",
   "execution_count": 27,
   "id": "87fe81f8",
   "metadata": {},
   "outputs": [
    {
     "data": {
      "text/plain": [
       "Regular    3003\n",
       "Low Fat    5516\n",
       "Name: Item_Fat_Content, dtype: int64"
      ]
     },
     "execution_count": 27,
     "metadata": {},
     "output_type": "execute_result"
    }
   ],
   "source": [
    "bigmart[\"Item_Fat_Content\"].value_counts(ascending=True)"
   ]
  },
  {
   "cell_type": "markdown",
   "id": "a4e0a373",
   "metadata": {},
   "source": [
    "<h3><b> 4) ITEM VISIBILITY </h3></b>"
   ]
  },
  {
   "cell_type": "code",
   "execution_count": 28,
   "id": "6aab56e7",
   "metadata": {},
   "outputs": [
    {
     "data": {
      "text/plain": [
       "count    8519.000000\n",
       "mean        0.066112\n",
       "std         0.051586\n",
       "min         0.000000\n",
       "25%         0.026983\n",
       "50%         0.053925\n",
       "75%         0.094558\n",
       "max         0.328391\n",
       "Name: Item_Visibility, dtype: float64"
      ]
     },
     "execution_count": 28,
     "metadata": {},
     "output_type": "execute_result"
    }
   ],
   "source": [
    "bigmart[\"Item_Visibility\"].describe()"
   ]
  },
  {
   "cell_type": "markdown",
   "id": "baa1a515",
   "metadata": {},
   "source": [
    "<h3><b> 5) ITEM TYPE </h3></b>"
   ]
  },
  {
   "cell_type": "code",
   "execution_count": 29,
   "id": "d71874a8",
   "metadata": {},
   "outputs": [
    {
     "data": {
      "text/plain": [
       "count                      8519\n",
       "unique                       16\n",
       "top       Fruits and Vegetables\n",
       "freq                       1232\n",
       "Name: Item_Type, dtype: object"
      ]
     },
     "execution_count": 29,
     "metadata": {},
     "output_type": "execute_result"
    }
   ],
   "source": [
    "bigmart[\"Item_Type\"].describe()"
   ]
  },
  {
   "cell_type": "code",
   "execution_count": 30,
   "id": "f92170b1",
   "metadata": {},
   "outputs": [
    {
     "data": {
      "text/plain": [
       "array(['Dairy', 'Soft Drinks', 'Meat', 'Fruits and Vegetables',\n",
       "       'Household', 'Baking Goods', 'Snack Foods', 'Frozen Foods',\n",
       "       'Breakfast', 'Health and Hygiene', 'Hard Drinks', 'Canned',\n",
       "       'Breads', 'Starchy Foods', 'Others', 'Seafood'], dtype=object)"
      ]
     },
     "execution_count": 30,
     "metadata": {},
     "output_type": "execute_result"
    }
   ],
   "source": [
    "bigmart[\"Item_Type\"].unique()"
   ]
  },
  {
   "cell_type": "code",
   "execution_count": 31,
   "id": "570749e1",
   "metadata": {},
   "outputs": [
    {
     "data": {
      "text/plain": [
       "Seafood                    64\n",
       "Breakfast                 110\n",
       "Starchy Foods             148\n",
       "Others                    169\n",
       "Hard Drinks               214\n",
       "Breads                    251\n",
       "Meat                      425\n",
       "Soft Drinks               445\n",
       "Health and Hygiene        520\n",
       "Baking Goods              647\n",
       "Canned                    649\n",
       "Dairy                     681\n",
       "Frozen Foods              855\n",
       "Household                 910\n",
       "Snack Foods              1199\n",
       "Fruits and Vegetables    1232\n",
       "Name: Item_Type, dtype: int64"
      ]
     },
     "execution_count": 31,
     "metadata": {},
     "output_type": "execute_result"
    }
   ],
   "source": [
    "bigmart[\"Item_Type\"].value_counts(ascending=True)"
   ]
  },
  {
   "cell_type": "markdown",
   "id": "7eefaa7f",
   "metadata": {},
   "source": [
    "<h3> <b> 6) ITEM MRP </h3></b>"
   ]
  },
  {
   "cell_type": "code",
   "execution_count": 32,
   "id": "7a23cbfc",
   "metadata": {},
   "outputs": [
    {
     "data": {
      "text/plain": [
       "count    8519.000000\n",
       "mean      141.010019\n",
       "std        62.283594\n",
       "min        31.290000\n",
       "25%        93.844900\n",
       "50%       143.047000\n",
       "75%       185.676600\n",
       "max       266.888400\n",
       "Name: Item_MRP, dtype: float64"
      ]
     },
     "execution_count": 32,
     "metadata": {},
     "output_type": "execute_result"
    }
   ],
   "source": [
    "bigmart[\"Item_MRP\"].describe()"
   ]
  },
  {
   "cell_type": "markdown",
   "id": "5824822e",
   "metadata": {},
   "source": [
    "<H3><B> 7) OUTLET IDENTIFIER </H3></B>"
   ]
  },
  {
   "cell_type": "code",
   "execution_count": 33,
   "id": "d0c64f7d",
   "metadata": {},
   "outputs": [
    {
     "data": {
      "text/plain": [
       "count       8519\n",
       "unique        10\n",
       "top       OUT013\n",
       "freq         932\n",
       "Name: Outlet_Identifier, dtype: object"
      ]
     },
     "execution_count": 33,
     "metadata": {},
     "output_type": "execute_result"
    }
   ],
   "source": [
    "bigmart[\"Outlet_Identifier\"].describe()"
   ]
  },
  {
   "cell_type": "code",
   "execution_count": 34,
   "id": "85e5e363",
   "metadata": {},
   "outputs": [
    {
     "data": {
      "text/plain": [
       "array(['OUT049', 'OUT018', 'OUT010', 'OUT013', 'OUT027', 'OUT045',\n",
       "       'OUT017', 'OUT046', 'OUT035', 'OUT019'], dtype=object)"
      ]
     },
     "execution_count": 34,
     "metadata": {},
     "output_type": "execute_result"
    }
   ],
   "source": [
    "bigmart[\"Outlet_Identifier\"].unique()"
   ]
  },
  {
   "cell_type": "code",
   "execution_count": 35,
   "id": "24f77613",
   "metadata": {},
   "outputs": [
    {
     "data": {
      "text/plain": [
       "OUT019    527\n",
       "OUT010    555\n",
       "OUT017    926\n",
       "OUT018    928\n",
       "OUT045    929\n",
       "OUT049    930\n",
       "OUT046    930\n",
       "OUT035    930\n",
       "OUT013    932\n",
       "OUT027    932\n",
       "Name: Outlet_Identifier, dtype: int64"
      ]
     },
     "execution_count": 35,
     "metadata": {},
     "output_type": "execute_result"
    }
   ],
   "source": [
    "bigmart[\"Outlet_Identifier\"].value_counts(ascending=True)"
   ]
  },
  {
   "cell_type": "markdown",
   "id": "ee39cd4e",
   "metadata": {},
   "source": [
    "<h3><b> 8) OUTLET ESTABLISHMENT YEAR <h3></b>"
   ]
  },
  {
   "cell_type": "code",
   "execution_count": 36,
   "id": "c1437475",
   "metadata": {},
   "outputs": [
    {
     "data": {
      "text/plain": [
       "count    8519.000000\n",
       "mean     1997.837892\n",
       "std         8.369105\n",
       "min      1985.000000\n",
       "25%      1987.000000\n",
       "50%      1999.000000\n",
       "75%      2004.000000\n",
       "max      2009.000000\n",
       "Name: Outlet_Establishment_Year, dtype: float64"
      ]
     },
     "execution_count": 36,
     "metadata": {},
     "output_type": "execute_result"
    }
   ],
   "source": [
    "bigmart[\"Outlet_Establishment_Year\"].describe()"
   ]
  },
  {
   "cell_type": "code",
   "execution_count": 37,
   "id": "65e3df95",
   "metadata": {},
   "outputs": [],
   "source": [
    "bigmart[\"Outlet_Establishment_Year\"] = bigmart[\"Outlet_Establishment_Year\"].astype(str)"
   ]
  },
  {
   "cell_type": "code",
   "execution_count": 38,
   "id": "e8db93d8",
   "metadata": {},
   "outputs": [
    {
     "data": {
      "text/plain": [
       "count     8519\n",
       "unique       9\n",
       "top       1985\n",
       "freq      1459\n",
       "Name: Outlet_Establishment_Year, dtype: object"
      ]
     },
     "execution_count": 38,
     "metadata": {},
     "output_type": "execute_result"
    }
   ],
   "source": [
    "bigmart[\"Outlet_Establishment_Year\"].describe()"
   ]
  },
  {
   "cell_type": "code",
   "execution_count": 39,
   "id": "6a6f9896",
   "metadata": {},
   "outputs": [
    {
     "data": {
      "text/plain": [
       "Item_Identifier               object\n",
       "Item_Weight                  float64\n",
       "Item_Fat_Content              object\n",
       "Item_Visibility              float64\n",
       "Item_Type                     object\n",
       "Item_MRP                     float64\n",
       "Outlet_Identifier             object\n",
       "Outlet_Establishment_Year     object\n",
       "Outlet_Size                   object\n",
       "Outlet_Location_Type          object\n",
       "Outlet_Type                   object\n",
       "Item_Outlet_Sales            float64\n",
       "dtype: object"
      ]
     },
     "execution_count": 39,
     "metadata": {},
     "output_type": "execute_result"
    }
   ],
   "source": [
    "bigmart.dtypes"
   ]
  },
  {
   "cell_type": "code",
   "execution_count": 40,
   "id": "693fafdb",
   "metadata": {},
   "outputs": [
    {
     "data": {
      "text/plain": [
       "1998     555\n",
       "2007     926\n",
       "2009     928\n",
       "2002     929\n",
       "1999     930\n",
       "1997     930\n",
       "2004     930\n",
       "1987     932\n",
       "1985    1459\n",
       "Name: Outlet_Establishment_Year, dtype: int64"
      ]
     },
     "execution_count": 40,
     "metadata": {},
     "output_type": "execute_result"
    }
   ],
   "source": [
    "bigmart[\"Outlet_Establishment_Year\"].value_counts(ascending=True)"
   ]
  },
  {
   "cell_type": "markdown",
   "id": "11508be1",
   "metadata": {},
   "source": [
    "<H3><B> 9) OUTLET SIZE </H3></B>"
   ]
  },
  {
   "cell_type": "code",
   "execution_count": 41,
   "id": "de28196c",
   "metadata": {},
   "outputs": [
    {
     "data": {
      "text/plain": [
       "count      8519\n",
       "unique        3\n",
       "top       Small\n",
       "freq       2942\n",
       "Name: Outlet_Size, dtype: object"
      ]
     },
     "execution_count": 41,
     "metadata": {},
     "output_type": "execute_result"
    }
   ],
   "source": [
    "bigmart[\"Outlet_Size\"].describe()"
   ]
  },
  {
   "cell_type": "code",
   "execution_count": 42,
   "id": "9954735c",
   "metadata": {},
   "outputs": [
    {
     "data": {
      "text/plain": [
       "array(['Medium', 'Small', 'High'], dtype=object)"
      ]
     },
     "execution_count": 42,
     "metadata": {},
     "output_type": "execute_result"
    }
   ],
   "source": [
    "bigmart[\"Outlet_Size\"].unique()"
   ]
  },
  {
   "cell_type": "code",
   "execution_count": 43,
   "id": "8871ea15",
   "metadata": {},
   "outputs": [
    {
     "data": {
      "text/plain": [
       "High      2787\n",
       "Medium    2790\n",
       "Small     2942\n",
       "Name: Outlet_Size, dtype: int64"
      ]
     },
     "execution_count": 43,
     "metadata": {},
     "output_type": "execute_result"
    }
   ],
   "source": [
    "bigmart[\"Outlet_Size\"].value_counts(ascending=True)"
   ]
  },
  {
   "cell_type": "markdown",
   "id": "06aa59a5",
   "metadata": {},
   "source": [
    "<H3><B> 10) Outlet_Location_Type </H3></B>"
   ]
  },
  {
   "cell_type": "code",
   "execution_count": 44,
   "id": "7bbcc4ee",
   "metadata": {},
   "outputs": [
    {
     "data": {
      "text/plain": [
       "count       8519\n",
       "unique         3\n",
       "top       Tier 3\n",
       "freq        3347\n",
       "Name: Outlet_Location_Type, dtype: object"
      ]
     },
     "execution_count": 44,
     "metadata": {},
     "output_type": "execute_result"
    }
   ],
   "source": [
    " bigmart[\"Outlet_Location_Type\"].describe()"
   ]
  },
  {
   "cell_type": "code",
   "execution_count": 45,
   "id": "cd423a07",
   "metadata": {},
   "outputs": [
    {
     "data": {
      "text/plain": [
       "array(['Tier 1', 'Tier 3', 'Tier 2'], dtype=object)"
      ]
     },
     "execution_count": 45,
     "metadata": {},
     "output_type": "execute_result"
    }
   ],
   "source": [
    "bigmart[\"Outlet_Location_Type\"].unique()"
   ]
  },
  {
   "cell_type": "code",
   "execution_count": 46,
   "id": "b47a1c83",
   "metadata": {},
   "outputs": [
    {
     "data": {
      "text/plain": [
       "Tier 1    2387\n",
       "Tier 2    2785\n",
       "Tier 3    3347\n",
       "Name: Outlet_Location_Type, dtype: int64"
      ]
     },
     "execution_count": 46,
     "metadata": {},
     "output_type": "execute_result"
    }
   ],
   "source": [
    "bigmart[\"Outlet_Location_Type\"].value_counts(ascending=True)"
   ]
  },
  {
   "cell_type": "markdown",
   "id": "6e88b774",
   "metadata": {},
   "source": [
    "<H3><B> 11) OUTLET TYPE </H3></B>"
   ]
  },
  {
   "cell_type": "code",
   "execution_count": 47,
   "id": "4d75175d",
   "metadata": {},
   "outputs": [
    {
     "data": {
      "text/plain": [
       "count                  8519\n",
       "unique                    4\n",
       "top       Supermarket Type1\n",
       "freq                   5577\n",
       "Name: Outlet_Type, dtype: object"
      ]
     },
     "execution_count": 47,
     "metadata": {},
     "output_type": "execute_result"
    }
   ],
   "source": [
    "bigmart[\"Outlet_Type\"].describe()"
   ]
  },
  {
   "cell_type": "code",
   "execution_count": 48,
   "id": "6e7c384e",
   "metadata": {},
   "outputs": [
    {
     "data": {
      "text/plain": [
       "array(['Supermarket Type1', 'Supermarket Type2', 'Grocery Store',\n",
       "       'Supermarket Type3'], dtype=object)"
      ]
     },
     "execution_count": 48,
     "metadata": {},
     "output_type": "execute_result"
    }
   ],
   "source": [
    "bigmart[\"Outlet_Type\"].unique()"
   ]
  },
  {
   "cell_type": "code",
   "execution_count": 49,
   "id": "1c45ece6",
   "metadata": {},
   "outputs": [
    {
     "data": {
      "text/plain": [
       "Supermarket Type2     928\n",
       "Supermarket Type3     932\n",
       "Grocery Store        1082\n",
       "Supermarket Type1    5577\n",
       "Name: Outlet_Type, dtype: int64"
      ]
     },
     "execution_count": 49,
     "metadata": {},
     "output_type": "execute_result"
    }
   ],
   "source": [
    "bigmart[\"Outlet_Type\"].value_counts(ascending=True)"
   ]
  },
  {
   "cell_type": "code",
   "execution_count": null,
   "id": "af898d99",
   "metadata": {},
   "outputs": [],
   "source": []
  },
  {
   "cell_type": "code",
   "execution_count": 50,
   "id": "f59ee007",
   "metadata": {},
   "outputs": [],
   "source": [
    "from sklearn.preprocessing import LabelEncoder\n",
    "encoder = LabelEncoder()"
   ]
  },
  {
   "cell_type": "code",
   "execution_count": 51,
   "id": "67024e00",
   "metadata": {},
   "outputs": [],
   "source": [
    "bigmart['Item_Identifier'] = encoder.fit_transform(bigmart['Item_Identifier'])\n",
    "\n",
    "bigmart['Item_Fat_Content'] = encoder.fit_transform(bigmart['Item_Fat_Content'])\n",
    "\n",
    "bigmart['Item_Type'] = encoder.fit_transform(bigmart['Item_Type'])\n",
    "\n",
    "bigmart['Outlet_Identifier'] = encoder.fit_transform(bigmart['Outlet_Identifier'])\n",
    "\n",
    "bigmart['Outlet_Size'] = encoder.fit_transform(bigmart['Outlet_Size'])\n",
    "\n",
    "bigmart['Outlet_Location_Type'] = encoder.fit_transform(bigmart['Outlet_Location_Type'])\n",
    "\n",
    "bigmart['Outlet_Type'] = encoder.fit_transform(bigmart['Outlet_Type'])\n"
   ]
  },
  {
   "cell_type": "code",
   "execution_count": 52,
   "id": "5cf6b876",
   "metadata": {},
   "outputs": [
    {
     "data": {
      "text/html": [
       "<div>\n",
       "<style scoped>\n",
       "    .dataframe tbody tr th:only-of-type {\n",
       "        vertical-align: middle;\n",
       "    }\n",
       "\n",
       "    .dataframe tbody tr th {\n",
       "        vertical-align: top;\n",
       "    }\n",
       "\n",
       "    .dataframe thead th {\n",
       "        text-align: right;\n",
       "    }\n",
       "</style>\n",
       "<table border=\"1\" class=\"dataframe\">\n",
       "  <thead>\n",
       "    <tr style=\"text-align: right;\">\n",
       "      <th></th>\n",
       "      <th>Item_Identifier</th>\n",
       "      <th>Item_Weight</th>\n",
       "      <th>Item_Fat_Content</th>\n",
       "      <th>Item_Visibility</th>\n",
       "      <th>Item_Type</th>\n",
       "      <th>Item_MRP</th>\n",
       "      <th>Outlet_Identifier</th>\n",
       "      <th>Outlet_Establishment_Year</th>\n",
       "      <th>Outlet_Size</th>\n",
       "      <th>Outlet_Location_Type</th>\n",
       "      <th>Outlet_Type</th>\n",
       "      <th>Item_Outlet_Sales</th>\n",
       "    </tr>\n",
       "  </thead>\n",
       "  <tbody>\n",
       "    <tr>\n",
       "      <th>0</th>\n",
       "      <td>156</td>\n",
       "      <td>9.300</td>\n",
       "      <td>0</td>\n",
       "      <td>0.016047</td>\n",
       "      <td>4</td>\n",
       "      <td>249.8092</td>\n",
       "      <td>9</td>\n",
       "      <td>1999</td>\n",
       "      <td>1</td>\n",
       "      <td>0</td>\n",
       "      <td>1</td>\n",
       "      <td>3735.1380</td>\n",
       "    </tr>\n",
       "    <tr>\n",
       "      <th>1</th>\n",
       "      <td>8</td>\n",
       "      <td>5.920</td>\n",
       "      <td>1</td>\n",
       "      <td>0.019278</td>\n",
       "      <td>14</td>\n",
       "      <td>48.2692</td>\n",
       "      <td>3</td>\n",
       "      <td>2009</td>\n",
       "      <td>1</td>\n",
       "      <td>2</td>\n",
       "      <td>2</td>\n",
       "      <td>443.4228</td>\n",
       "    </tr>\n",
       "    <tr>\n",
       "      <th>2</th>\n",
       "      <td>660</td>\n",
       "      <td>17.500</td>\n",
       "      <td>0</td>\n",
       "      <td>0.016760</td>\n",
       "      <td>10</td>\n",
       "      <td>141.6180</td>\n",
       "      <td>9</td>\n",
       "      <td>1999</td>\n",
       "      <td>1</td>\n",
       "      <td>0</td>\n",
       "      <td>1</td>\n",
       "      <td>2097.2700</td>\n",
       "    </tr>\n",
       "    <tr>\n",
       "      <th>3</th>\n",
       "      <td>1117</td>\n",
       "      <td>19.200</td>\n",
       "      <td>1</td>\n",
       "      <td>0.000000</td>\n",
       "      <td>6</td>\n",
       "      <td>182.0950</td>\n",
       "      <td>0</td>\n",
       "      <td>1998</td>\n",
       "      <td>2</td>\n",
       "      <td>2</td>\n",
       "      <td>0</td>\n",
       "      <td>732.3800</td>\n",
       "    </tr>\n",
       "    <tr>\n",
       "      <th>4</th>\n",
       "      <td>1293</td>\n",
       "      <td>8.930</td>\n",
       "      <td>0</td>\n",
       "      <td>0.000000</td>\n",
       "      <td>9</td>\n",
       "      <td>53.8614</td>\n",
       "      <td>1</td>\n",
       "      <td>1987</td>\n",
       "      <td>0</td>\n",
       "      <td>2</td>\n",
       "      <td>1</td>\n",
       "      <td>994.7052</td>\n",
       "    </tr>\n",
       "    <tr>\n",
       "      <th>...</th>\n",
       "      <td>...</td>\n",
       "      <td>...</td>\n",
       "      <td>...</td>\n",
       "      <td>...</td>\n",
       "      <td>...</td>\n",
       "      <td>...</td>\n",
       "      <td>...</td>\n",
       "      <td>...</td>\n",
       "      <td>...</td>\n",
       "      <td>...</td>\n",
       "      <td>...</td>\n",
       "      <td>...</td>\n",
       "    </tr>\n",
       "    <tr>\n",
       "      <th>8518</th>\n",
       "      <td>369</td>\n",
       "      <td>6.865</td>\n",
       "      <td>0</td>\n",
       "      <td>0.056783</td>\n",
       "      <td>13</td>\n",
       "      <td>214.5218</td>\n",
       "      <td>1</td>\n",
       "      <td>1987</td>\n",
       "      <td>0</td>\n",
       "      <td>2</td>\n",
       "      <td>1</td>\n",
       "      <td>2778.3834</td>\n",
       "    </tr>\n",
       "    <tr>\n",
       "      <th>8519</th>\n",
       "      <td>893</td>\n",
       "      <td>8.380</td>\n",
       "      <td>1</td>\n",
       "      <td>0.046982</td>\n",
       "      <td>0</td>\n",
       "      <td>108.1570</td>\n",
       "      <td>7</td>\n",
       "      <td>2002</td>\n",
       "      <td>0</td>\n",
       "      <td>1</td>\n",
       "      <td>1</td>\n",
       "      <td>549.2850</td>\n",
       "    </tr>\n",
       "    <tr>\n",
       "      <th>8520</th>\n",
       "      <td>1353</td>\n",
       "      <td>10.600</td>\n",
       "      <td>0</td>\n",
       "      <td>0.035186</td>\n",
       "      <td>8</td>\n",
       "      <td>85.1224</td>\n",
       "      <td>6</td>\n",
       "      <td>2004</td>\n",
       "      <td>2</td>\n",
       "      <td>1</td>\n",
       "      <td>1</td>\n",
       "      <td>1193.1136</td>\n",
       "    </tr>\n",
       "    <tr>\n",
       "      <th>8521</th>\n",
       "      <td>679</td>\n",
       "      <td>7.210</td>\n",
       "      <td>1</td>\n",
       "      <td>0.145221</td>\n",
       "      <td>13</td>\n",
       "      <td>103.1332</td>\n",
       "      <td>3</td>\n",
       "      <td>2009</td>\n",
       "      <td>1</td>\n",
       "      <td>2</td>\n",
       "      <td>2</td>\n",
       "      <td>1845.5976</td>\n",
       "    </tr>\n",
       "    <tr>\n",
       "      <th>8522</th>\n",
       "      <td>50</td>\n",
       "      <td>14.800</td>\n",
       "      <td>0</td>\n",
       "      <td>0.044878</td>\n",
       "      <td>14</td>\n",
       "      <td>75.4670</td>\n",
       "      <td>8</td>\n",
       "      <td>1997</td>\n",
       "      <td>2</td>\n",
       "      <td>0</td>\n",
       "      <td>1</td>\n",
       "      <td>765.6700</td>\n",
       "    </tr>\n",
       "  </tbody>\n",
       "</table>\n",
       "<p>8519 rows × 12 columns</p>\n",
       "</div>"
      ],
      "text/plain": [
       "      Item_Identifier  Item_Weight  Item_Fat_Content  Item_Visibility  \\\n",
       "0                 156        9.300                 0         0.016047   \n",
       "1                   8        5.920                 1         0.019278   \n",
       "2                 660       17.500                 0         0.016760   \n",
       "3                1117       19.200                 1         0.000000   \n",
       "4                1293        8.930                 0         0.000000   \n",
       "...               ...          ...               ...              ...   \n",
       "8518              369        6.865                 0         0.056783   \n",
       "8519              893        8.380                 1         0.046982   \n",
       "8520             1353       10.600                 0         0.035186   \n",
       "8521              679        7.210                 1         0.145221   \n",
       "8522               50       14.800                 0         0.044878   \n",
       "\n",
       "      Item_Type  Item_MRP  Outlet_Identifier Outlet_Establishment_Year  \\\n",
       "0             4  249.8092                  9                      1999   \n",
       "1            14   48.2692                  3                      2009   \n",
       "2            10  141.6180                  9                      1999   \n",
       "3             6  182.0950                  0                      1998   \n",
       "4             9   53.8614                  1                      1987   \n",
       "...         ...       ...                ...                       ...   \n",
       "8518         13  214.5218                  1                      1987   \n",
       "8519          0  108.1570                  7                      2002   \n",
       "8520          8   85.1224                  6                      2004   \n",
       "8521         13  103.1332                  3                      2009   \n",
       "8522         14   75.4670                  8                      1997   \n",
       "\n",
       "      Outlet_Size  Outlet_Location_Type  Outlet_Type  Item_Outlet_Sales  \n",
       "0               1                     0            1          3735.1380  \n",
       "1               1                     2            2           443.4228  \n",
       "2               1                     0            1          2097.2700  \n",
       "3               2                     2            0           732.3800  \n",
       "4               0                     2            1           994.7052  \n",
       "...           ...                   ...          ...                ...  \n",
       "8518            0                     2            1          2778.3834  \n",
       "8519            0                     1            1           549.2850  \n",
       "8520            2                     1            1          1193.1136  \n",
       "8521            1                     2            2          1845.5976  \n",
       "8522            2                     0            1           765.6700  \n",
       "\n",
       "[8519 rows x 12 columns]"
      ]
     },
     "execution_count": 52,
     "metadata": {},
     "output_type": "execute_result"
    }
   ],
   "source": [
    "bigmart"
   ]
  },
  {
   "cell_type": "markdown",
   "id": "1df8839a",
   "metadata": {},
   "source": [
    "<H3><B> SCALING </H3></B>"
   ]
  },
  {
   "cell_type": "code",
   "execution_count": 53,
   "id": "f1c6beef",
   "metadata": {},
   "outputs": [],
   "source": [
    "from sklearn.preprocessing import MinMaxScaler"
   ]
  },
  {
   "cell_type": "code",
   "execution_count": 54,
   "id": "5d9a94a3",
   "metadata": {},
   "outputs": [],
   "source": [
    "scaler = MinMaxScaler()"
   ]
  },
  {
   "cell_type": "code",
   "execution_count": 55,
   "id": "872cf26d",
   "metadata": {},
   "outputs": [],
   "source": [
    "bigmart_scaled = pd.DataFrame(scaler.fit_transform(bigmart), columns=bigmart.columns)"
   ]
  },
  {
   "cell_type": "code",
   "execution_count": 56,
   "id": "d1b65d8d",
   "metadata": {},
   "outputs": [
    {
     "data": {
      "text/html": [
       "<div>\n",
       "<style scoped>\n",
       "    .dataframe tbody tr th:only-of-type {\n",
       "        vertical-align: middle;\n",
       "    }\n",
       "\n",
       "    .dataframe tbody tr th {\n",
       "        vertical-align: top;\n",
       "    }\n",
       "\n",
       "    .dataframe thead th {\n",
       "        text-align: right;\n",
       "    }\n",
       "</style>\n",
       "<table border=\"1\" class=\"dataframe\">\n",
       "  <thead>\n",
       "    <tr style=\"text-align: right;\">\n",
       "      <th></th>\n",
       "      <th>Item_Identifier</th>\n",
       "      <th>Item_Weight</th>\n",
       "      <th>Item_Fat_Content</th>\n",
       "      <th>Item_Visibility</th>\n",
       "      <th>Item_Type</th>\n",
       "      <th>Item_MRP</th>\n",
       "      <th>Outlet_Identifier</th>\n",
       "      <th>Outlet_Establishment_Year</th>\n",
       "      <th>Outlet_Size</th>\n",
       "      <th>Outlet_Location_Type</th>\n",
       "      <th>Outlet_Type</th>\n",
       "      <th>Item_Outlet_Sales</th>\n",
       "    </tr>\n",
       "  </thead>\n",
       "  <tbody>\n",
       "    <tr>\n",
       "      <th>0</th>\n",
       "      <td>0.100386</td>\n",
       "      <td>0.282525</td>\n",
       "      <td>0.0</td>\n",
       "      <td>0.048866</td>\n",
       "      <td>0.266667</td>\n",
       "      <td>0.927507</td>\n",
       "      <td>1.000000</td>\n",
       "      <td>0.583333</td>\n",
       "      <td>0.5</td>\n",
       "      <td>0.0</td>\n",
       "      <td>0.333333</td>\n",
       "      <td>0.283587</td>\n",
       "    </tr>\n",
       "    <tr>\n",
       "      <th>1</th>\n",
       "      <td>0.005148</td>\n",
       "      <td>0.081274</td>\n",
       "      <td>1.0</td>\n",
       "      <td>0.058705</td>\n",
       "      <td>0.933333</td>\n",
       "      <td>0.072068</td>\n",
       "      <td>0.333333</td>\n",
       "      <td>1.000000</td>\n",
       "      <td>0.5</td>\n",
       "      <td>1.0</td>\n",
       "      <td>0.666667</td>\n",
       "      <td>0.031419</td>\n",
       "    </tr>\n",
       "    <tr>\n",
       "      <th>2</th>\n",
       "      <td>0.424710</td>\n",
       "      <td>0.770765</td>\n",
       "      <td>0.0</td>\n",
       "      <td>0.051037</td>\n",
       "      <td>0.666667</td>\n",
       "      <td>0.468288</td>\n",
       "      <td>1.000000</td>\n",
       "      <td>0.583333</td>\n",
       "      <td>0.5</td>\n",
       "      <td>0.0</td>\n",
       "      <td>0.333333</td>\n",
       "      <td>0.158115</td>\n",
       "    </tr>\n",
       "    <tr>\n",
       "      <th>3</th>\n",
       "      <td>0.718790</td>\n",
       "      <td>0.871986</td>\n",
       "      <td>1.0</td>\n",
       "      <td>0.000000</td>\n",
       "      <td>0.400000</td>\n",
       "      <td>0.640093</td>\n",
       "      <td>0.000000</td>\n",
       "      <td>0.541667</td>\n",
       "      <td>1.0</td>\n",
       "      <td>1.0</td>\n",
       "      <td>0.000000</td>\n",
       "      <td>0.053555</td>\n",
       "    </tr>\n",
       "    <tr>\n",
       "      <th>4</th>\n",
       "      <td>0.832046</td>\n",
       "      <td>0.260494</td>\n",
       "      <td>0.0</td>\n",
       "      <td>0.000000</td>\n",
       "      <td>0.600000</td>\n",
       "      <td>0.095805</td>\n",
       "      <td>0.111111</td>\n",
       "      <td>0.083333</td>\n",
       "      <td>0.0</td>\n",
       "      <td>1.0</td>\n",
       "      <td>0.333333</td>\n",
       "      <td>0.073651</td>\n",
       "    </tr>\n",
       "  </tbody>\n",
       "</table>\n",
       "</div>"
      ],
      "text/plain": [
       "   Item_Identifier  Item_Weight  Item_Fat_Content  Item_Visibility  Item_Type  \\\n",
       "0         0.100386     0.282525               0.0         0.048866   0.266667   \n",
       "1         0.005148     0.081274               1.0         0.058705   0.933333   \n",
       "2         0.424710     0.770765               0.0         0.051037   0.666667   \n",
       "3         0.718790     0.871986               1.0         0.000000   0.400000   \n",
       "4         0.832046     0.260494               0.0         0.000000   0.600000   \n",
       "\n",
       "   Item_MRP  Outlet_Identifier  Outlet_Establishment_Year  Outlet_Size  \\\n",
       "0  0.927507           1.000000                   0.583333          0.5   \n",
       "1  0.072068           0.333333                   1.000000          0.5   \n",
       "2  0.468288           1.000000                   0.583333          0.5   \n",
       "3  0.640093           0.000000                   0.541667          1.0   \n",
       "4  0.095805           0.111111                   0.083333          0.0   \n",
       "\n",
       "   Outlet_Location_Type  Outlet_Type  Item_Outlet_Sales  \n",
       "0                   0.0     0.333333           0.283587  \n",
       "1                   1.0     0.666667           0.031419  \n",
       "2                   0.0     0.333333           0.158115  \n",
       "3                   1.0     0.000000           0.053555  \n",
       "4                   1.0     0.333333           0.073651  "
      ]
     },
     "execution_count": 56,
     "metadata": {},
     "output_type": "execute_result"
    }
   ],
   "source": [
    "bigmart_scaled.head()"
   ]
  },
  {
   "cell_type": "markdown",
   "id": "e2c36f34",
   "metadata": {},
   "source": [
    "<H3> TARGET VARIABLE</H3>"
   ]
  },
  {
   "cell_type": "code",
   "execution_count": 57,
   "id": "05863fd9",
   "metadata": {},
   "outputs": [],
   "source": [
    "target_column = \"Item_Outlet_Sales\""
   ]
  },
  {
   "cell_type": "markdown",
   "id": "70658052",
   "metadata": {},
   "source": [
    "<H3> SPLITTING THE VARIABLES</H3>"
   ]
  },
  {
   "cell_type": "code",
   "execution_count": 58,
   "id": "02acab79",
   "metadata": {},
   "outputs": [],
   "source": [
    "x = bigmart_scaled.drop(columns=[target_column])\n",
    "y = bigmart_scaled[target_column]"
   ]
  },
  {
   "cell_type": "code",
   "execution_count": 59,
   "id": "9766a3ce",
   "metadata": {},
   "outputs": [],
   "source": [
    "from sklearn.model_selection import train_test_split\n",
    "train_x,test_x,train_y,test_y=train_test_split(x,y,test_size=0.2,random_state=40)"
   ]
  },
  {
   "cell_type": "markdown",
   "id": "0d74ea27",
   "metadata": {},
   "source": [
    "<H3> IMPORTING THE MODEL </H3>"
   ]
  },
  {
   "cell_type": "code",
   "execution_count": 60,
   "id": "ef566609",
   "metadata": {},
   "outputs": [],
   "source": [
    "# Import necessary libraries\n",
    "from sklearn.model_selection import train_test_split\n",
    "from sklearn.linear_model import LinearRegression\n",
    "from sklearn.ensemble import RandomForestRegressor\n",
    "from sklearn.ensemble import GradientBoostingRegressor\n",
    "from sklearn.tree import DecisionTreeRegressor\n",
    "from sklearn.neighbors import KNeighborsRegressor\n",
    "import xgboost\n",
    "from xgboost import XGBRegressor\n",
    "from sklearn import metrics\n",
    "from sklearn.metrics import r2_score\n",
    "from sklearn.metrics import mean_squared_error"
   ]
  },
  {
   "cell_type": "code",
   "execution_count": 61,
   "id": "e71a749d",
   "metadata": {},
   "outputs": [],
   "source": [
    "gbr = GradientBoostingRegressor(random_state=0)\n",
    "xgb = xgboost.XGBRegressor(n_jobs=-1)\n",
    "rf = RandomForestRegressor(n_jobs=-1)\n",
    "ds = DecisionTreeRegressor()"
   ]
  },
  {
   "cell_type": "code",
   "execution_count": 62,
   "id": "2dfa5011",
   "metadata": {},
   "outputs": [],
   "source": [
    "# Dictionary to store models and their names\n",
    "reg = {\n",
    "\"LinearRegression\": LinearRegression(),\n",
    "\"KNeighborsRegressor\":KNeighborsRegressor(n_neighbors=2),\n",
    "\"GradientBoostingRegressor\":GradientBoostingRegressor(random_state=0),\n",
    "\"DecisionTreeRegressor\": DecisionTreeRegressor(),\n",
    "\"RandomForestRegressor\": RandomForestRegressor(n_jobs=-1),\n",
    "\"XGBRegressor\":xgboost.XGBRegressor(n_jobs=-1)\n",
    "}"
   ]
  },
  {
   "cell_type": "code",
   "execution_count": 63,
   "id": "346f4b90",
   "metadata": {},
   "outputs": [
    {
     "name": "stdout",
     "output_type": "stream",
     "text": [
      "--------------------------------------------------------------\n",
      "Model: LinearRegression\n",
      "-----Data Evalution-----\n",
      "R2 Value:  0.5127941146095791\n",
      "RMSE:  0.09491738880405717\n",
      "--------------------------------------------------------------\n",
      "Model: KNeighborsRegressor\n",
      "-----Data Evalution-----\n",
      "R2 Value:  0.37769589465759923\n",
      "RMSE:  0.10727310521805947\n",
      "--------------------------------------------------------------\n",
      "Model: GradientBoostingRegressor\n",
      "-----Data Evalution-----\n",
      "R2 Value:  0.5953682311974898\n",
      "RMSE:  0.08650067729596626\n",
      "--------------------------------------------------------------\n",
      "Model: DecisionTreeRegressor\n",
      "-----Data Evalution-----\n",
      "R2 Value:  0.23736113462555775\n",
      "RMSE:  0.11875420214656036\n",
      "--------------------------------------------------------------\n",
      "Model: RandomForestRegressor\n",
      "-----Data Evalution-----\n",
      "R2 Value:  0.5508263574491672\n",
      "RMSE:  0.09113740346734456\n",
      "--------------------------------------------------------------\n",
      "Model: XGBRegressor\n",
      "-----Data Evalution-----\n",
      "R2 Value:  0.5122657657752405\n",
      "RMSE:  0.09496884128491834\n"
     ]
    }
   ],
   "source": [
    "# Function to evaluate model performance\n",
    "dic =  {\"Model\":[],\"R2_Score\":[],\"RMSE_Score\":[]}\n",
    "for name, model in reg.items():\n",
    "\n",
    "   \n",
    "  model.fit(train_x, train_y)\n",
    "  y_pre = model.predict(test_x)\n",
    "  r2 = r2_score(test_y, y_pre)\n",
    "  rmse  = np.sqrt(mean_squared_error(test_y, y_pre))\n",
    "  print(\"--------------------------------------------------------------\")\n",
    "  print(\"Model:\", name)\n",
    "  print(\"-----Data Evalution-----\")\n",
    "  print(\"R2 Value: \", r2_score(test_y, y_pre))\n",
    "  print(\"RMSE: \",np.sqrt(mean_squared_error(test_y, y_pre)))\n",
    "  dic[\"Model\"].append(name)\n",
    "  dic[\"R2_Score\"].append(r2)\n",
    "  dic[\"RMSE_Score\"].append(rmse)"
   ]
  },
  {
   "cell_type": "code",
   "execution_count": 64,
   "id": "055091ca",
   "metadata": {},
   "outputs": [
    {
     "data": {
      "text/html": [
       "<div>\n",
       "<style scoped>\n",
       "    .dataframe tbody tr th:only-of-type {\n",
       "        vertical-align: middle;\n",
       "    }\n",
       "\n",
       "    .dataframe tbody tr th {\n",
       "        vertical-align: top;\n",
       "    }\n",
       "\n",
       "    .dataframe thead th {\n",
       "        text-align: right;\n",
       "    }\n",
       "</style>\n",
       "<table border=\"1\" class=\"dataframe\">\n",
       "  <thead>\n",
       "    <tr style=\"text-align: right;\">\n",
       "      <th></th>\n",
       "      <th>Model</th>\n",
       "      <th>R2_Score</th>\n",
       "      <th>RMSE_Score</th>\n",
       "    </tr>\n",
       "  </thead>\n",
       "  <tbody>\n",
       "    <tr>\n",
       "      <th>0</th>\n",
       "      <td>LinearRegression</td>\n",
       "      <td>0.512794</td>\n",
       "      <td>0.094917</td>\n",
       "    </tr>\n",
       "    <tr>\n",
       "      <th>1</th>\n",
       "      <td>KNeighborsRegressor</td>\n",
       "      <td>0.377696</td>\n",
       "      <td>0.107273</td>\n",
       "    </tr>\n",
       "    <tr>\n",
       "      <th>2</th>\n",
       "      <td>GradientBoostingRegressor</td>\n",
       "      <td>0.595368</td>\n",
       "      <td>0.086501</td>\n",
       "    </tr>\n",
       "    <tr>\n",
       "      <th>3</th>\n",
       "      <td>DecisionTreeRegressor</td>\n",
       "      <td>0.237361</td>\n",
       "      <td>0.118754</td>\n",
       "    </tr>\n",
       "    <tr>\n",
       "      <th>4</th>\n",
       "      <td>RandomForestRegressor</td>\n",
       "      <td>0.550826</td>\n",
       "      <td>0.091137</td>\n",
       "    </tr>\n",
       "    <tr>\n",
       "      <th>5</th>\n",
       "      <td>XGBRegressor</td>\n",
       "      <td>0.512266</td>\n",
       "      <td>0.094969</td>\n",
       "    </tr>\n",
       "  </tbody>\n",
       "</table>\n",
       "</div>"
      ],
      "text/plain": [
       "                       Model  R2_Score  RMSE_Score\n",
       "0           LinearRegression  0.512794    0.094917\n",
       "1        KNeighborsRegressor  0.377696    0.107273\n",
       "2  GradientBoostingRegressor  0.595368    0.086501\n",
       "3      DecisionTreeRegressor  0.237361    0.118754\n",
       "4      RandomForestRegressor  0.550826    0.091137\n",
       "5               XGBRegressor  0.512266    0.094969"
      ]
     },
     "execution_count": 64,
     "metadata": {},
     "output_type": "execute_result"
    }
   ],
   "source": [
    "final_model = pd.DataFrame(dic)\n",
    "final_model"
   ]
  },
  {
   "cell_type": "code",
   "execution_count": 65,
   "id": "cf4f5dc1",
   "metadata": {},
   "outputs": [
    {
     "data": {
      "text/html": [
       "<div>\n",
       "<style scoped>\n",
       "    .dataframe tbody tr th:only-of-type {\n",
       "        vertical-align: middle;\n",
       "    }\n",
       "\n",
       "    .dataframe tbody tr th {\n",
       "        vertical-align: top;\n",
       "    }\n",
       "\n",
       "    .dataframe thead th {\n",
       "        text-align: right;\n",
       "    }\n",
       "</style>\n",
       "<table border=\"1\" class=\"dataframe\">\n",
       "  <thead>\n",
       "    <tr style=\"text-align: right;\">\n",
       "      <th></th>\n",
       "      <th>Model</th>\n",
       "      <th>R2_Score</th>\n",
       "      <th>RMSE_Score</th>\n",
       "    </tr>\n",
       "  </thead>\n",
       "  <tbody>\n",
       "    <tr>\n",
       "      <th>2</th>\n",
       "      <td>GradientBoostingRegressor</td>\n",
       "      <td>0.595368</td>\n",
       "      <td>0.086501</td>\n",
       "    </tr>\n",
       "    <tr>\n",
       "      <th>4</th>\n",
       "      <td>RandomForestRegressor</td>\n",
       "      <td>0.550826</td>\n",
       "      <td>0.091137</td>\n",
       "    </tr>\n",
       "    <tr>\n",
       "      <th>0</th>\n",
       "      <td>LinearRegression</td>\n",
       "      <td>0.512794</td>\n",
       "      <td>0.094917</td>\n",
       "    </tr>\n",
       "    <tr>\n",
       "      <th>5</th>\n",
       "      <td>XGBRegressor</td>\n",
       "      <td>0.512266</td>\n",
       "      <td>0.094969</td>\n",
       "    </tr>\n",
       "    <tr>\n",
       "      <th>1</th>\n",
       "      <td>KNeighborsRegressor</td>\n",
       "      <td>0.377696</td>\n",
       "      <td>0.107273</td>\n",
       "    </tr>\n",
       "    <tr>\n",
       "      <th>3</th>\n",
       "      <td>DecisionTreeRegressor</td>\n",
       "      <td>0.237361</td>\n",
       "      <td>0.118754</td>\n",
       "    </tr>\n",
       "  </tbody>\n",
       "</table>\n",
       "</div>"
      ],
      "text/plain": [
       "                       Model  R2_Score  RMSE_Score\n",
       "2  GradientBoostingRegressor  0.595368    0.086501\n",
       "4      RandomForestRegressor  0.550826    0.091137\n",
       "0           LinearRegression  0.512794    0.094917\n",
       "5               XGBRegressor  0.512266    0.094969\n",
       "1        KNeighborsRegressor  0.377696    0.107273\n",
       "3      DecisionTreeRegressor  0.237361    0.118754"
      ]
     },
     "execution_count": 65,
     "metadata": {},
     "output_type": "execute_result"
    }
   ],
   "source": [
    "final_model.sort_values(\"RMSE_Score\", axis = 0, ascending = True)"
   ]
  },
  {
   "cell_type": "markdown",
   "id": "8b3c983b",
   "metadata": {},
   "source": [
    "<h3>Based on the above models  Gradient Boosting Regressor is Best suitable model for this dataset.</h3>"
   ]
  }
 ],
 "metadata": {
  "kernelspec": {
   "display_name": "Python 3 (ipykernel)",
   "language": "python",
   "name": "python3"
  },
  "language_info": {
   "codemirror_mode": {
    "name": "ipython",
    "version": 3
   },
   "file_extension": ".py",
   "mimetype": "text/x-python",
   "name": "python",
   "nbconvert_exporter": "python",
   "pygments_lexer": "ipython3",
   "version": "3.11.4"
  }
 },
 "nbformat": 4,
 "nbformat_minor": 5
}
